{
 "cells": [
  {
   "cell_type": "markdown",
   "metadata": {},
   "source": [
    "# Reproduction of example 2\n",
    "This notebook gives the results presented in example 2 of the paper *Optimal monotonicity–preserving perturbations of a given Runge-Kutta method*."
   ]
  },
  {
   "cell_type": "code",
   "execution_count": null,
   "metadata": {
    "collapsed": true
   },
   "outputs": [],
   "source": [
    "%matplotlib inline\n",
    "from nodepy import rk\n",
    "import numpy as np\n",
    "from nodepy.ivp import IVP\n",
    "from nodepy import ivp\n",
    "import matplotlib.pyplot as plt"
   ]
  },
  {
   "cell_type": "code",
   "execution_count": null,
   "metadata": {
    "collapsed": true
   },
   "outputs": [],
   "source": [
    "bs5 = rk.loadRKM('BS5')\n",
    "ssp75 = rk.loadRKM('SSP75')\n",
    "fe = rk.loadRKM('FE')\n",
    "\n",
    "dts = 2.**np.arange(1,-5,-1)"
   ]
  },
  {
   "cell_type": "code",
   "execution_count": null,
   "metadata": {},
   "outputs": [],
   "source": [
    "def f(t,u):\n",
    "    return 5*u*(1.-u)*(u-0.5)\n",
    "\n",
    "problem = IVP(f=f, u0=0.49, T=5.)\n",
    "\n",
    "t,y = bs5(problem,dt=1.e-3)\n",
    "plt.plot(t,y)\n",
    "ref_sol = y[-1]"
   ]
  },
  {
   "cell_type": "code",
   "execution_count": null,
   "metadata": {},
   "outputs": [],
   "source": [
    "bs5_sol = []\n",
    "ssp75_sol = []\n",
    "for dt in dts:\n",
    "    t, y = fe(problem,dt=dt)\n",
    "    print('fe '+str(dt)+' '+str(np.min(y)))\n",
    "    t, y = bs5(problem,dt=dt)\n",
    "    bs5_sol.append(y[-1])\n",
    "    print('bs5 '+str(dt)+' '+str(np.min(y)))\n",
    "    t, y = ssp75(problem,dt=dt)\n",
    "    print('ss5 '+str(dt)+' '+str(np.min(y)))\n",
    "    ssp75_sol.append(y[-1])"
   ]
  },
  {
   "cell_type": "code",
   "execution_count": null,
   "metadata": {},
   "outputs": [],
   "source": [
    "bs5_error = np.abs(np.array(bs5_sol)-ref_sol)\n",
    "ssp75_error = np.abs(np.array(ssp75_sol)-ref_sol)"
   ]
  },
  {
   "cell_type": "code",
   "execution_count": null,
   "metadata": {},
   "outputs": [],
   "source": [
    "bs5line,=plt.loglog(dts,bs5_error,'-ok',markersize=7,label='BS75')\n",
    "plt.loglog(dts[0:2],ssp75_error[0:2],'or',markerfacecolor='white',markersize=7)\n",
    "sspline,=plt.loglog(dts[2:],ssp75_error[2:],'--or',markersize=7,label='SSP75')\n",
    "plt.loglog(dts,ssp75_error,'--r')\n",
    "plt.xlabel('$\\Delta t$',fontsize=15)\n",
    "plt.ylabel('Error',fontsize=15)\n",
    "plt.legend(handles=[bs5line,sspline]);\n",
    "plt.savefig('example2.pdf')"
   ]
  }
 ],
 "metadata": {
  "kernelspec": {
   "display_name": "Python 2",
   "language": "python",
   "name": "python2"
  },
  "language_info": {
   "codemirror_mode": {
    "name": "ipython",
    "version": 2
   },
   "file_extension": ".py",
   "mimetype": "text/x-python",
   "name": "python",
   "nbconvert_exporter": "python",
   "pygments_lexer": "ipython2",
   "version": "2.7.13"
  }
 },
 "nbformat": 4,
 "nbformat_minor": 2
}
