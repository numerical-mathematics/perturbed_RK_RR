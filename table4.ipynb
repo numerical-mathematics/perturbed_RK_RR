{
 "cells": [
  {
   "cell_type": "markdown",
   "metadata": {},
   "source": [
    "# Example from section 3.6.2\n",
    "This notebook gives the results presented in Table 4 of the paper *Optimal monotonicity–preserving perturbations of a given Runge-Kutta method*."
   ]
  },
  {
   "cell_type": "code",
   "execution_count": null,
   "metadata": {
    "collapsed": true
   },
   "outputs": [],
   "source": [
    "%matplotlib inline\n",
    "from nodepy import rk\n",
    "import numpy as np"
   ]
  },
  {
   "cell_type": "code",
   "execution_count": null,
   "metadata": {
    "collapsed": true
   },
   "outputs": [],
   "source": [
    "N = 20\n",
    "x = np.linspace(0,1.,N)\n",
    "dx = x[1]-x[0]\n",
    "a = lambda xx, tt : (np.cos(200*xx + 400*tt))**4"
   ]
  },
  {
   "cell_type": "code",
   "execution_count": null,
   "metadata": {
    "collapsed": true
   },
   "outputs": [],
   "source": [
    "def updiff_matrix(t):\n",
    "    \"First order upwind flux difference with variable velocity\"\n",
    "    N = len(x)\n",
    "    A = np.zeros((N,N))\n",
    "    for i in xrange(N):\n",
    "        A[i,i]   = - a(x[i],t)\n",
    "        A[i,i-1] =   a(x[i-1],t)\n",
    "    A[0,-1] = 0.\n",
    "    return 1./dx * A\n",
    "\n",
    "def downdiff_matrix(t):\n",
    "    \"First order downwind flux difference with variable velocity\"\n",
    "    N = len(x)\n",
    "    A = np.zeros((N,N))\n",
    "    for i in xrange(N-1):\n",
    "        A[i,i+1] =   a(x[i+1],t)\n",
    "        A[i,i]   = - a(x[i],t)\n",
    "    A[N-1,N-1] = - a(x[N-1],t)\n",
    "    return 1./dx * A\n",
    "\n",
    "def propagation_matrix(rkm,h):\n",
    "    \"\"\"Constructs the effective matrix M where u_{n+1} = M u_n.\n",
    "       This version uses Kronecker products.\"\"\"\n",
    "    N = len(x)\n",
    "    nstage = len(rkm)\n",
    "    I = np.eye(nstage)\n",
    "    I2 = np.eye(N)\n",
    "    Z = np.zeros((nstage*N,nstage*N))\n",
    "    for i in xrange(len(rkm)):\n",
    "        Z[i*N:(i+1)*N,i*N:(i+1)*N] = h*updiff_matrix(h*rkm.c[i])\n",
    "    X=np.kron(I,I2)-np.dot(np.kron(rkm.A,I2),Z)\n",
    "    Xinv = np.linalg.inv(X)\n",
    "    e = np.kron(np.ones(nstage)[:,np.newaxis],I2)\n",
    "    M = I2 + np.dot(np.kron(rkm.b[:,np.newaxis],I2).T,\n",
    "                  np.dot(Z,np.dot(Xinv,e)))\n",
    "    return M"
   ]
  },
  {
   "cell_type": "code",
   "execution_count": null,
   "metadata": {
    "collapsed": true
   },
   "outputs": [],
   "source": [
    "method = rk.loadRKM('RK44')\n",
    "method = method.__num__()\n",
    "r, v, alphaup, alphadown = method.optimal_perturbed_splitting()\n",
    "alphaup = np.array(alphaup,dtype='float64')\n",
    "alphadown = np.array(alphadown,dtype='float64')"
   ]
  },
  {
   "cell_type": "code",
   "execution_count": null,
   "metadata": {
    "collapsed": true
   },
   "outputs": [],
   "source": [
    "def propagation_matrix_manual(rkm,h):\n",
    "    \"\"\"Constructs the effective matrix M where u_{n+1} = M u_n.\n",
    "       This version does it the naive way.\"\"\"\n",
    "    N = len(x)\n",
    "    nstage = len(rkm)\n",
    "    M_stage = []\n",
    "    for i in range(nstage):\n",
    "        Mi = np.eye(N)\n",
    "        for j in range(i):\n",
    "            Mi += rkm.A[i,j]*h*np.dot(updiff_matrix(h*rkm.c[j]),M_stage[j])\n",
    "        M_stage.append(Mi)\n",
    "    M = np.eye(N)\n",
    "    for j in range(nstage):\n",
    "        M += rkm.b[j] * h * np.dot(updiff_matrix(h*rkm.c[j]),M_stage[j])\n",
    "    return M"
   ]
  },
  {
   "cell_type": "code",
   "execution_count": null,
   "metadata": {},
   "outputs": [],
   "source": [
    "cflnum = 0.17\n",
    "dt = cflnum*dx\n",
    "\n",
    "M = propagation_matrix(method,dt)\n",
    "print M.min()\n",
    "print np.linalg.norm(M,1)\n",
    "\n",
    "M = propagation_matrix_manual(method,dt)\n",
    "print M.min()\n",
    "print np.linalg.norm(M,1)"
   ]
  },
  {
   "cell_type": "code",
   "execution_count": null,
   "metadata": {},
   "outputs": [],
   "source": [
    "cflnum = 0.18\n",
    "dt = cflnum*dx\n",
    "\n",
    "M = propagation_matrix(method,dt)\n",
    "print M.min()\n",
    "print np.linalg.norm(M,1)\n",
    "\n",
    "M = propagation_matrix_manual(method,dt)\n",
    "print M.min()\n",
    "print np.linalg.norm(M,1)"
   ]
  },
  {
   "cell_type": "code",
   "execution_count": null,
   "metadata": {
    "collapsed": true
   },
   "outputs": [],
   "source": [
    "def propagation_matrix_manual_downwind_canonical(r,v,alphaup,alphadown,c,h):\n",
    "    \"\"\"Constructs the effective matrix M where u_{n+1} = M u_n,\n",
    "       for perturbed methods in canonical form.  This version does it the naive way.\"\"\"\n",
    "    N = len(x)\n",
    "    nstage = len(v) - 1\n",
    "    M_stage = []\n",
    "    I = np.eye(N)\n",
    "    for i in range(nstage+1):\n",
    "        Mi = v[i]*I\n",
    "        for j in range(i):\n",
    "            Mi += alphaup[i,j]*np.dot(I+h/r*updiff_matrix(h*c[j]),M_stage[j])\n",
    "            Mi += alphadown[i,j]*np.dot(I+h/r*downdiff_matrix(h*c[j]),M_stage[j])\n",
    "        M_stage.append(Mi)\n",
    "    return Mi"
   ]
  },
  {
   "cell_type": "code",
   "execution_count": null,
   "metadata": {},
   "outputs": [],
   "source": [
    "cflnum = 0.685\n",
    "dt = cflnum*dx\n",
    "alphaup = alphaup.astype('float64')\n",
    "alphadown = alphadown.astype('float64')\n",
    "v = v.astype('float64')\n",
    "M = propagation_matrix_manual_downwind_canonical(r,v,alphaup,alphadown,method.c.astype(float),dt)\n",
    "print M.min()\n",
    "print np.linalg.norm(M,1)\n",
    "\n",
    "cflnum = 0.686\n",
    "dt = cflnum*dx\n",
    "\n",
    "M = propagation_matrix_manual_downwind_canonical(r,v,alphaup,alphadown,method.c.astype(float),dt)\n",
    "print M.min()\n",
    "print np.linalg.norm(M,1)"
   ]
  },
  {
   "cell_type": "code",
   "execution_count": null,
   "metadata": {
    "collapsed": true
   },
   "outputs": [],
   "source": [
    "def find_max_positive_stepsize(method,epsilon=1.e-12):\n",
    "    method = method.__num__()\n",
    "    \n",
    "    r, v, alphaup, alphadown = method.optimal_perturbed_splitting()\n",
    "    alphaup = alphaup.astype('float64')\n",
    "    alphadown = alphadown.astype('float64')\n",
    "    v = v.astype('float64')\n",
    "\n",
    "    cflnum = 0.0\n",
    "    while True:\n",
    "        cflnum += 0.01\n",
    "        dt = cflnum * dx\n",
    "        M = propagation_matrix(method,dt)\n",
    "        if M.min() < -epsilon:\n",
    "            break\n",
    "        if np.linalg.norm(M,1) > 1 + epsilon:\n",
    "            break\n",
    "    \n",
    "    unperturbed = cflnum - 0.01\n",
    "    \n",
    "    cflnum = 0.0\n",
    "    while True:\n",
    "        cflnum += 0.01\n",
    "        dt = cflnum * dx\n",
    "        M = propagation_matrix_manual_downwind_canonical(r,v,alphaup,alphadown,method.c.astype('float64'),dt)\n",
    "        if M.min() < -epsilon:\n",
    "            #print M.min()\n",
    "            break\n",
    "        if np.linalg.norm(M,1) > 1 + epsilon:\n",
    "            #print np.linalg.norm(M,1)-1\n",
    "            break\n",
    "    \n",
    "    perturbed = cflnum - 0.01\n",
    "    return unperturbed, perturbed"
   ]
  },
  {
   "cell_type": "code",
   "execution_count": null,
   "metadata": {},
   "outputs": [],
   "source": [
    "for name in ('FE','Mid22','MTE22','SSP22','SSP22star','Heun33','SSP33','RK44',\n",
    "             'Merson43','SSP104','Fehlberg45','DP5','BS5','SSP75','SSP85','SSP95',\n",
    "             'CMR6','PD8'):\n",
    "    method = rk.loadRKM(name)\n",
    "    u, p = find_max_positive_stepsize(method)\n",
    "    print name, u, p"
   ]
  },
  {
   "cell_type": "code",
   "execution_count": null,
   "metadata": {
    "collapsed": true
   },
   "outputs": [],
   "source": []
  }
 ],
 "metadata": {
  "kernelspec": {
   "display_name": "Python 2",
   "language": "python",
   "name": "python2"
  },
  "language_info": {
   "codemirror_mode": {
    "name": "ipython",
    "version": 2
   },
   "file_extension": ".py",
   "mimetype": "text/x-python",
   "name": "python",
   "nbconvert_exporter": "python",
   "pygments_lexer": "ipython2",
   "version": "2.7.13"
  },
  "widgets": {
   "state": {},
   "version": "1.1.1"
  }
 },
 "nbformat": 4,
 "nbformat_minor": 1
}
